{
 "cells": [
  {
   "cell_type": "code",
   "execution_count": 1,
   "metadata": {},
   "outputs": [],
   "source": [
    "import pandas as pd\n",
    "import numpy as np"
   ]
  },
  {
   "cell_type": "code",
   "execution_count": 3,
   "metadata": {},
   "outputs": [],
   "source": [
    "matrizA= np.array([[2, -3],\n",
    "                   [4, -6],\n",
    "                   [6,  9]])"
   ]
  },
  {
   "cell_type": "code",
   "execution_count": 4,
   "metadata": {},
   "outputs": [],
   "source": [
    "matrizB = np.array([[1,  7],\n",
    "                    [-3, 4],\n",
    "                    [5, -8]])"
   ]
  },
  {
   "cell_type": "code",
   "execution_count": 10,
   "metadata": {},
   "outputs": [],
   "source": [
    "somaAB = matrizA + matrizB\n",
    "print(somaAB)"
   ]
  },
  {
   "cell_type": "code",
   "execution_count": 14,
   "metadata": {},
   "outputs": [],
   "source": [
    "matrizC = np.array([[1,  5],\n",
    "                    [3, -6],\n",
    "                    [9,  3]])\n",
    "\n",
    "matrizD = np.array([[4,  6,  3],\n",
    "                    [-9, 10, 2]])"
   ]
  },
  {
   "cell_type": "code",
   "execution_count": 15,
   "metadata": {},
   "outputs": [
    {
     "name": "stdout",
     "output_type": "stream",
     "text": [
      "[[-41  56  13]\n",
      " [ 66 -42  -3]\n",
      " [  9  84  33]]\n"
     ]
    }
   ],
   "source": [
    "mutiplicacaoCD = np.dot(matrizC, matrizD)\n",
    "print(mutiplicacaoCD)"
   ]
  }
 ],
 "metadata": {
  "kernelspec": {
   "display_name": "Python 3",
   "language": "python",
   "name": "python3"
  },
  "language_info": {
   "codemirror_mode": {
    "name": "ipython",
    "version": 3
   },
   "file_extension": ".py",
   "mimetype": "text/x-python",
   "name": "python",
   "nbconvert_exporter": "python",
   "pygments_lexer": "ipython3",
   "version": "3.10.9"
  },
  "orig_nbformat": 4,
  "vscode": {
   "interpreter": {
    "hash": "6322c4700e84fc97d98f0cc5c912cabd2b52db4209b8bdd48c64673467527294"
   }
  }
 },
 "nbformat": 4,
 "nbformat_minor": 2
}
